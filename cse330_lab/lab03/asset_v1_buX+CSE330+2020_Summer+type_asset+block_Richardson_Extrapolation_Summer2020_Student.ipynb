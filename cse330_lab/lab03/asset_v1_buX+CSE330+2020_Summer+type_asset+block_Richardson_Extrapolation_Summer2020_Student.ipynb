{
  "nbformat": 4,
  "nbformat_minor": 0,
  "metadata": {
    "colab": {
      "name": "asset-v1_buX+CSE330+2020_Summer+type@asset+block@Richardson_Extrapolation_Summer2020_Student.ipynb",
      "provenance": [],
      "collapsed_sections": []
    },
    "kernelspec": {
      "name": "python3",
      "display_name": "Python 3"
    }
  },
  "cells": [
    {
      "cell_type": "markdown",
      "metadata": {
        "id": "STVu2WqyBYDN",
        "colab_type": "text"
      },
      "source": [
        "# CSE 330 Numerical Analysis Lab \n",
        "\n",
        "### Lab 5\n",
        "\n",
        "### Instructions\n",
        "---\n",
        "\n",
        "Today's assignment is to:\n",
        "1. Implement Richardson Extrapolation method using Python\n",
        "\n",
        "### Richardson Extrapolation:\n",
        "We used central difference method to calculate derivatives of functions last week. This week we will use Richardson extrapolation to get a more accurate result.\n",
        "Let,\n",
        "$$ D_h = \\frac{f(x_1+h) -f(x_1-h)}{2h}\\tag{5.1}$$ \n",
        "\n",
        "\n",
        "General Taylor Series formula:\n",
        "$$ f(x) = f(x_1) + f'(x_1)(x - x_1) + \\frac{f''(x_1)}{2}(x - x_1)^2+... $$\n",
        "Using Taylor's theorem to expand we get,\n",
        "\n",
        "\\begin{align}\n",
        "f(x_1+h) &= f(x_1) + f^{\\prime}(x_1)h + \\frac{f^{\\prime \\prime}(x_1)}{2}h^2 + \\frac{f^{\\prime \\prime \\prime}(x_1)}{3!}h^3 + \\frac{f^{(4)}(x_1)}{4!}h^4 + \\frac{f^{(5)}(x_1)}{5!}h^5 + O(h^6)\\tag{5.2} \\\\\n",
        "f(x_1-h) &= f(x_1) - f^{\\prime}(x_1)h + \\frac{f^{\\prime \\prime}(x_1)}{2}h^2 - \\frac{f^{\\prime \\prime \\prime}(x_1)}{3!}h^3 + \\frac{f^{(4)}(x_1)}{4!}h^4 - \\frac{f^{(5)}(x_1)}{5!}h^5 + O(h^6)\\tag{5.3}\n",
        "\\end{align}\n",
        "Subtracting $5.3$ from $5.2$ we get,\n",
        "$$ f(x_1+h) - f(x_1-h) = 2f^{\\prime}(x_1)h + 2\\frac{f^{\\prime \\prime \\prime}(x_1)}{3!}h^3 + 2\\frac{f^{(5)}(x_1)}{5!}h^5 + O(h^7)\\tag{5.4}$$\n",
        "So,\n",
        "\\begin{align}\n",
        "D_h &= \\frac{f(x_1+h) - f(x_1-h)}{2h} \\\\\n",
        "&= \\frac{1}{2h} \\left( 2f^{\\prime}(x_1)h + 2\\frac{f^{\\prime \\prime \\prime}(x_1)}{3!}h^3 + 2\\frac{f^{(5)}(x_1)}{5!}h^5 + O(h^7) \\right) \\\\\n",
        "&= f^{\\prime}(x_1) + \\frac{f^{\\prime \\prime \\prime}(x_1)}{6}h^2 + \\frac{f^{(5)}(x_1)}{120}h^4 + O(h^6) \\tag{5.5}\n",
        "\\end{align}\n",
        "We get our derivative $f'(x)$ plus some error terms of order $>= 2$ Now, we want to bring our error order down to 4.\n",
        "\n",
        "If we use $h, \\text{and} \\frac{h}{2}$ as step size in $5.5$, we get,\n",
        "\\begin{align}\n",
        "D_h &= f^{\\prime}(x_1) + f^{\\prime \\prime \\prime}(x_1)\\frac{h^2}{6} + f^{(5)}(x_1) \\frac{h^4}{120} + O(h^6) \\tag{5.6} \\\\\n",
        "D_{h/2} &= f^{\\prime}(x_1) + f^{\\prime \\prime \\prime}(x_1)\\frac{h^2}{2^2 . 6} + f^{(5)}(x_1) \\frac{h^4}{2^4 . 120} + O(h^6) \\tag{5.7}\n",
        "\\end{align}\n",
        "Multiplying $5.7$ by $4$ and subtracting from $5.6$ we get,\n",
        "\\begin{align}\n",
        "D_h - 4D_{h/2} &= -3f^{\\prime}(x) + f^{(5)}(x_1) \\frac{h^4}{160} + O(h^6)\\\\ \n",
        "\\Longrightarrow D^{(1)}_h = \\frac{4D_{h/2} - D_h}{3} &= f^{\\prime}(x) - f^{(5)}(x_1) \\frac{h^4}{480} + O(h^6) \\tag{5.8}\n",
        "\\end{align}\n",
        "Let's calculate the derivative using $5.8$\n",
        "\n",
        "\n",
        "### A. Let's import the necessary headers"
      ]
    },
    {
      "cell_type": "code",
      "metadata": {
        "id": "rTp0r-WtBUWL",
        "colab_type": "code",
        "colab": {}
      },
      "source": [
        "import numpy as np\n",
        "import pandas as pd\n",
        "import matplotlib.pyplot as plt \n",
        "from numpy.polynomial import Polynomial"
      ],
      "execution_count": 1,
      "outputs": []
    },
    {
      "cell_type": "markdown",
      "metadata": {
        "id": "4tF6K5VpKJFY",
        "colab_type": "text"
      },
      "source": [
        "### B. Let's create a function named `dh`\n",
        "function `dh` takes three parameters as input: a function (`f`), a value `h` and a set of values `x`. It returns the derivatives of the function at each elements of array `x` using the Central Difference method. This calculates equation $(5.1)$."
      ]
    },
    {
      "cell_type": "code",
      "metadata": {
        "id": "prydlxlrKIRA",
        "colab_type": "code",
        "colab": {}
      },
      "source": [
        "def dh(f, h, x):\n",
        "    '''\n",
        "    Input:\n",
        "        f: np.polynomial.Polynonimial type data. \n",
        "        h: floating point data.\n",
        "        x: np.array type data.\n",
        "    Output:\n",
        "        return np.array type data of slope at each point x.\n",
        "    '''\n",
        "    # return <write your code here>\n",
        "    y_bar=(f(x+h)-f(x-h)) / (2*h)\n",
        "    return y_bar\n",
        "    "
      ],
      "execution_count": 2,
      "outputs": []
    },
    {
      "cell_type": "markdown",
      "metadata": {
        "id": "uvHNUfUHKubv",
        "colab_type": "text"
      },
      "source": [
        "###C. Let's create another funtion `dh1`.\n",
        "`dh1` takes the same type of values as `dh` as input. It calculates the derivative using previously defined `dh` function and using equation $5.8$ and returns the values."
      ]
    },
    {
      "cell_type": "code",
      "metadata": {
        "id": "UHQhk88nLAei",
        "colab_type": "code",
        "colab": {}
      },
      "source": [
        "def dh1(f, h, x):\n",
        "    '''\n",
        "    Input:\n",
        "        f: np.polynomial.Polynonimial type data. \n",
        "        h: floating point data.\n",
        "        x: np.array type data.\n",
        "    Output:\n",
        "        return np.array type data of slope at each point x.\n",
        "    '''\n",
        "    # return <write your code here>\n",
        "    d_hby2 = dh(f,h/2,x)\n",
        "    d_h = dh(f,h,x)\n",
        "    y_bar = ((4*d_hby2) - d_h) / 3 \n",
        "    return y_bar"
      ],
      "execution_count": 3,
      "outputs": []
    },
    {
      "cell_type": "markdown",
      "metadata": {
        "id": "w08-Njt7LOPd",
        "colab_type": "text"
      },
      "source": [
        "###D. Now let's create an `error` function\n",
        "`error` function takes a function `f` as input. It also takes a list of different values of h as `hs` and a specific value as `x_i` as input. It calculates the derivatives as point `x_i` using both functions described in **B** and **C**, i.e. `dh()` and `dh1()`"
      ]
    },
    {
      "cell_type": "code",
      "metadata": {
        "id": "zSQBIJApMfe3",
        "colab_type": "code",
        "colab": {}
      },
      "source": [
        "def error(f, hs, x_i):\n",
        "    '''\n",
        "    Input:\n",
        "        f  : np.polynomial.Polynonimial type data. \n",
        "        hs : np.array type data. list of h.\n",
        "        x_i: floating point data. single value of x.\n",
        "    Output:\n",
        "        return two np.array type data of errors by two methods..\n",
        "    '''\n",
        "\n",
        "    f_prime = f.deriv(1)\n",
        "    Y_actual = f_prime(x_i)\n",
        "\n",
        "    diff_error = []\n",
        "    diff2_error = []\n",
        "\n",
        "    for h in hs:\n",
        "        # for each values of hs calculate the error using both methods\n",
        "        # and append those values into diff_error and diff2_error list.\n",
        "\n",
        "        # write your code here\n",
        "\n",
        "        diff_error_hi = dh(f, h, x_i) - Y_actual\n",
        "        diff_error.append(diff_error_hi)\n",
        "\n",
        "        diff2_error_hi = dh1(f, h, x_i) - Y_actual\n",
        "        diff2_error.append(diff2_error_hi)\n",
        "    \n",
        "    print(pd.DataFrame({\"h\": hs, \"Diff\": diff_error, \"Diff2\": diff2_error}))\n",
        "\n",
        "    return diff_error, diff2_error"
      ],
      "execution_count": 4,
      "outputs": []
    },
    {
      "cell_type": "markdown",
      "metadata": {
        "id": "cxAf6Yl7M2CK",
        "colab_type": "text"
      },
      "source": [
        "### E. Finally let's run some tests"
      ]
    },
    {
      "cell_type": "code",
      "metadata": {
        "id": "-MWa3poQW5rK",
        "colab_type": "code",
        "colab": {}
      },
      "source": [
        "#function to draw the actual function\n",
        "def draw_graph(f, ax, domain=[-10, 10], label=None):\n",
        "    data = f.linspace(domain=domain)\n",
        "    ax.plot(data[0], data[1], label=label)"
      ],
      "execution_count": 8,
      "outputs": []
    },
    {
      "cell_type": "markdown",
      "metadata": {
        "id": "rJ6Doeg-XDcW",
        "colab_type": "text"
      },
      "source": [
        "Draw the polynomial and it's actual derivative function"
      ]
    },
    {
      "cell_type": "code",
      "metadata": {
        "id": "UZmcKlvpW9uU",
        "colab_type": "code",
        "colab": {
          "base_uri": "https://localhost:8080/",
          "height": 285
        },
        "outputId": "ca82ac8b-2bdf-4bb9-9fba-9f07f0e32aed"
      },
      "source": [
        "fig, ax = plt.subplots()\n",
        "ax.axhline(y=0, color='k')\n",
        "\n",
        "p = Polynomial([2.0, 1.0, -6.0, -2.0, 2.5, 1.0])\n",
        "p_prime = p.deriv(1)\n",
        "draw_graph(p, ax, [-2.4, 1.5], 'Function')\n",
        "draw_graph(p_prime, ax, [-2.4, 1.5], 'Derivative')\n",
        "\n",
        "ax.legend()"
      ],
      "execution_count": 9,
      "outputs": [
        {
          "output_type": "execute_result",
          "data": {
            "text/plain": [
              "<matplotlib.legend.Legend at 0x7f51e405bbe0>"
            ]
          },
          "metadata": {
            "tags": []
          },
          "execution_count": 9
        },
        {
          "output_type": "display_data",
          "data": {
            "image/png": "[encoded data removed]",
            "text/plain": [
              "<Figure size 432x288 with 1 Axes>"
            ]
          },
          "metadata": {
            "tags": [],
            "needs_background": "light"
          }
        }
      ]
    },
    {
      "cell_type": "markdown",
      "metadata": {
        "id": "UcbbL6JMXO4i",
        "colab_type": "text"
      },
      "source": [
        "Draw the actual derivative and richardson derivative using `h=1` and `h=0.1` as step size."
      ]
    },
    {
      "cell_type": "code",
      "metadata": {
        "id": "ZHgCbAEWXJL4",
        "colab_type": "code",
        "colab": {
          "base_uri": "https://localhost:8080/",
          "height": 285
        },
        "outputId": "07c72ce8-c0e2-4039-d38a-40f5587ba40f"
      },
      "source": [
        "fig, ax = plt.subplots()\n",
        "ax.axhline(y=0, color='k')\n",
        "\n",
        "draw_graph(p_prime, ax, [-2.4, 1.5], 'actual')\n",
        "\n",
        "h = 1\n",
        "x = np.linspace(-2.4, 1.5, 50, endpoint=True)\n",
        "y = dh1(p, h, x)\n",
        "ax.plot(x, y, label='Richardson; h=1')\n",
        "\n",
        "h = 0.1\n",
        "x = np.linspace(-2.4, 1.5, 50, endpoint=True)\n",
        "y = dh1(p, h, x)\n",
        "ax.plot(x, y, label='Richardson; h=0.1')\n",
        "\n",
        "ax.legend()"
      ],
      "execution_count": 10,
      "outputs": [
        {
          "output_type": "execute_result",
          "data": {
            "text/plain": [
              "<matplotlib.legend.Legend at 0x7f51e3128eb8>"
            ]
          },
          "metadata": {
            "tags": []
          },
          "execution_count": 10
        },
        {
          "output_type": "display_data",
          "data": {
            "image/png": "[encoded data removed]",
            "text/plain": [
              "<Figure size 432x288 with 1 Axes>"
            ]
          },
          "metadata": {
            "tags": [],
            "needs_background": "light"
          }
        }
      ]
    },
    {
      "cell_type": "markdown",
      "metadata": {
        "id": "PLByFIzaXX7v",
        "colab_type": "text"
      },
      "source": [
        "Draw error-vs-h cuve"
      ]
    },
    {
      "cell_type": "code",
      "metadata": {
        "id": "QcAcO58fM7Yf",
        "colab_type": "code",
        "colab": {
          "base_uri": "https://localhost:8080/",
          "height": 460
        },
        "outputId": "d12b01e9-516a-4006-f2d3-4032f86a5db2"
      },
      "source": [
        "fig, ax = plt.subplots()\n",
        "ax.axhline(y=0, color='k')\n",
        "hs = np.array([1., 0.55, 0.3, .17, 0.1, 0.055, 0.03, 0.017, 0.01])\n",
        "e1, e2 = error(p, hs, 2.0)\n",
        "ax.plot(hs, e1, label='e1')\n",
        "ax.plot(hs, e2, label='e2')\n",
        "\n",
        "ax.legend()"
      ],
      "execution_count": 11,
      "outputs": [
        {
          "output_type": "stream",
          "text": [
            "       h       Diff         Diff2\n",
            "0  1.000  59.000000 -2.500000e-01\n",
            "1  0.550  17.636506 -2.287656e-02\n",
            "2  0.300   5.228100 -2.025000e-03\n",
            "3  0.170   1.677035 -2.088025e-04\n",
            "4  0.100   0.580100 -2.500000e-05\n",
            "5  0.055   0.175459 -2.287656e-06\n",
            "6  0.030   0.052201 -2.024986e-07\n",
            "7  0.017   0.016762 -2.088073e-08\n",
            "8  0.010   0.005800 -2.501793e-09\n"
          ],
          "name": "stdout"
        },
        {
          "output_type": "execute_result",
          "data": {
            "text/plain": [
              "<matplotlib.legend.Legend at 0x7f51e30b3eb8>"
            ]
          },
          "metadata": {
            "tags": []
          },
          "execution_count": 11
        },
        {
          "output_type": "display_data",
          "data": {
            "image/png": "[encoded data removed]",
            "text/plain": [
              "<Figure size 432x288 with 1 Axes>"
            ]
          },
          "metadata": {
            "tags": [],
            "needs_background": "light"
          }
        }
      ]
    }
  ]
}